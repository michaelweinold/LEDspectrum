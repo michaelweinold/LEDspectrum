{
  "nbformat": 4,
  "nbformat_minor": 0,
  "metadata": {
    "colab": {
      "name": "ler_calculation.ipynb",
      "provenance": [],
      "collapsed_sections": [],
      "machine_shape": "hm"
    },
    "kernelspec": {
      "name": "python3",
      "display_name": "Python 3"
    }
  },
  "cells": [
    {
      "cell_type": "markdown",
      "metadata": {
        "id": "a6x36AJC3K-b",
        "colab_type": "text"
      },
      "source": [
        "Michael Weinold, 2020 \\\\\n",
        "%remove Based on [luxpy](https://github.com/ksmet1977/luxpy) by [K.A.G. Smet](https://kuleuven.academia.edu/kevinsmet)\n",
        "Based on colour-science by Colour Developers"
      ]
    },
    {
      "cell_type": "code",
      "metadata": {
        "id": "3_Oj-zsWU133",
        "colab_type": "code",
        "colab": {
          "base_uri": "https://localhost:8080/",
          "height": 119
        },
        "outputId": "c8cc3517-60a2-4a36-a8e8-4ab31ec7e8b7"
      },
      "source": [
        "# Required Packages\n",
        "# ========================================\n",
        "!pip install colour-science\n",
        "#!pip install matplotlib\n",
        "#!pip install numpy\n",
        "#!pip install scipy"
      ],
      "execution_count": null,
      "outputs": [
        {
          "output_type": "stream",
          "text": [
            "Requirement already satisfied: colour-science in /usr/local/lib/python3.6/dist-packages (0.3.15)\n",
            "Requirement already satisfied: scipy in /usr/local/lib/python3.6/dist-packages (from colour-science) (1.4.1)\n",
            "Requirement already satisfied: six in /usr/local/lib/python3.6/dist-packages (from colour-science) (1.15.0)\n",
            "Requirement already satisfied: imageio in /usr/local/lib/python3.6/dist-packages (from colour-science) (2.4.1)\n",
            "Requirement already satisfied: numpy>=1.13.3 in /usr/local/lib/python3.6/dist-packages (from scipy->colour-science) (1.18.5)\n",
            "Requirement already satisfied: pillow in /usr/local/lib/python3.6/dist-packages (from imageio->colour-science) (7.0.0)\n"
          ],
          "name": "stdout"
        }
      ]
    },
    {
      "cell_type": "code",
      "metadata": {
        "id": "1-S0O0TaWjm9",
        "colab_type": "code",
        "colab": {}
      },
      "source": [
        "# Colour Science\n",
        "# ========================================\n",
        "import colour\n",
        "# Data Science\n",
        "# ========================================\n",
        "import numpy as np\n",
        "import scipy\n",
        "import json\n",
        "import matplotlib.pyplot as plt"
      ],
      "execution_count": null,
      "outputs": []
    },
    {
      "cell_type": "markdown",
      "metadata": {
        "id": "ErHi-aSPxMJV",
        "colab_type": "text"
      },
      "source": [
        "Loads spectral data from csv file for calculation of CRI. \n",
        "Note: For colour-science package, use function [`colour.read_spectral_data_from_csv_file()`](https://colour.readthedocs.io/en/develop/generated/colour.read_spectral_data_from_csv_file.html?highlight=load%20spectral#colour-read-spectral-data-from-csv-file)."
      ]
    },
    {
      "cell_type": "code",
      "metadata": {
        "id": "53HZn-Sdu9dY",
        "colab_type": "code",
        "colab": {}
      },
      "source": [
        "spd_raw=colour.read_spectral_data_from_csv_file('test.csv',fields=['wavelength','intensity'])"
      ],
      "execution_count": null,
      "outputs": []
    },
    {
      "cell_type": "code",
      "metadata": {
        "id": "cxyEAKUCCrro",
        "colab_type": "code",
        "colab": {
          "base_uri": "https://localhost:8080/",
          "height": 54
        },
        "outputId": "cd88dbfd-0716-4a67-d4fb-fb74c4daafd7"
      },
      "source": [
        "print(json.dumps(spd_raw['intensity']))"
      ],
      "execution_count": null,
      "outputs": [
        {
          "output_type": "stream",
          "text": [
            "{\"403.564792\": 0.00970133, \"408.5539731\": 0.009592326, \"413.5395209\": 0.010246348, \"418.5193589\": 0.012099411, \"423.4805106\": 0.017876608, \"428.4027324\": 0.031829082, \"433.2924477\": 0.052607914, \"436.1036885\": 0.081294964, \"438.4004485\": 0.11412688, \"440.7771742\": 0.147482014, \"443.6020015\": 0.173315893, \"448.6321889\": 0.164595596, \"453.6955964\": 0.148899063, \"458.6858157\": 0.148572051, \"463.6947214\": 0.144320907, \"468.6704069\": 0.147046, \"473.5760186\": 0.164486593, \"478.471249\": 0.18410726, \"483.3431214\": 0.208633094, \"488.2123985\": 0.233703946, \"493.0967286\": 0.255613691, \"497.9976687\": 0.274035317, \"502.8892656\": 0.29441901, \"507.5458001\": 0.316546763, \"512.2012965\": 0.338892522, \"517.0882218\": 0.360257249, \"522.0062911\": 0.375081753, \"526.9446039\": 0.385655112, \"531.8766879\": 0.397536516, \"536.8259011\": 0.405820798, \"541.7704426\": 0.415086113, \"546.7310753\": 0.420972313, \"551.7223327\": 0.420427295, \"556.7395434\": 0.414432091, \"561.7624639\": 0.407237846, \"566.7801937\": 0.401133639, \"571.7647033\": 0.402005668, \"576.6760247\": 0.41824722, \"580.8901178\": 0.43804956, \"582.8354459\": 0.467625899, \"584.9199212\": 0.496552758, \"586.9656038\": 0.525833878, \"588.4195138\": 0.555289102, \"589.5513181\": 0.583483213, \"590.7769703\": 0.611810552, \"591.495783\": 0.639431312, \"592.7811832\": 0.667116307, \"593.4958156\": 0.695614937, \"594.9221328\": 0.725092653, \"596.1569067\": 0.761124434, \"596.6777598\": 0.789311408, \"597.9667287\": 0.816247002, \"598.975876\": 0.846389555, \"600.2012902\": 0.874766853, \"601.7012735\": 0.903204709, \"602.5751848\": 0.931804556, \"604.4384529\": 0.960431655, \"608.9097599\": 0.976543765, \"612.555299\": 0.961521692, \"614.5705658\": 0.936584066, \"616.7326343\": 0.911121103, \"618.4440203\": 0.885063378, \"620.3317618\": 0.853717026, \"622.5276106\": 0.817985612, \"624.240348\": 0.78471768, \"626.0484673\": 0.754796163, \"627.5715935\": 0.724886757, \"629.415577\": 0.693590582, \"630.7773169\": 0.664118705, \"632.509421\": 0.636091127, \"634.196398\": 0.605635492, \"635.6905496\": 0.577577938, \"637.2745794\": 0.549693578, \"639.5746483\": 0.516895574, \"641.2595094\": 0.485345057, \"643.2054357\": 0.456594724, \"645.6348836\": 0.421735339, \"648.0145475\": 0.389538369, \"650.1639505\": 0.361444178, \"652.1256464\": 0.335731415, \"654.282941\": 0.311270983, \"656.4716481\": 0.285504929, \"659.0684595\": 0.258693046, \"662.1502798\": 0.23055841, \"665.8594631\": 0.202545656, \"669.225955\": 0.177567037, \"673.8586274\": 0.152757794, \"678.7396057\": 0.127752344, \"683.8351953\": 0.10529758, \"688.9089841\": 0.087420972, \"693.9687582\": 0.072487465, \"699.0176319\": 0.059843035, \"704.0498955\": 0.050686723, \"709.0785257\": 0.042293438, \"714.0998889\": 0.035426204, \"719.1155424\": 0.029758012, \"724.1239291\": 0.025615871, \"729.1328347\": 0.021364726, \"734.138107\": 0.017876608, \"739.1428601\": 0.014497493, \"744.1434607\": 0.011990408, \"749.1367945\": 0.011009374, \"754.1275329\": 0.010573359, \"759.1193094\": 0.009919337, \"764.1095287\": 0.009592326, \"769.1039006\": 0.008393285, \"774.0925627\": 0.008393285, \"779.0817439\": 0.008284282, \"784.0714441\": 0.008066274, \"787.9323752\": 0.006794564}\n"
          ],
          "name": "stdout"
        }
      ]
    },
    {
      "cell_type": "markdown",
      "metadata": {
        "id": "2CtCf7K1dNs-",
        "colab_type": "text"
      },
      "source": [
        "Note: Functions in color-science are defined only for full nanometer increments (300nm,301nm,...). Interpolates datapoints to return a continous 1D function , which can be evaluated at the proper nanometer increments for later use."
      ]
    },
    {
      "cell_type": "code",
      "metadata": {
        "id": "AkH4NAvYfLNp",
        "colab_type": "code",
        "colab": {}
      },
      "source": [
        "x = list(spd_raw['intensity'].keys())\n",
        "y = list(spd_raw['intensity'].values())"
      ],
      "execution_count": null,
      "outputs": []
    },
    {
      "cell_type": "code",
      "metadata": {
        "id": "HiifE13rlkh9",
        "colab_type": "code",
        "colab": {}
      },
      "source": [
        "f = scipy.interpolate.interp1d(x, y, kind='cubic',fill_value=\"extrapolate\")"
      ],
      "execution_count": null,
      "outputs": []
    },
    {
      "cell_type": "code",
      "metadata": {
        "id": "269VeW2egEXS",
        "colab_type": "code",
        "colab": {}
      },
      "source": [
        "xnew=np.arange(int(round(x[0])),x[-1],1)\n",
        "ynewtemp = f(xnew)\n",
        "ynew = colour.utilities.normalise_maximum(ynewtemp)"
      ],
      "execution_count": null,
      "outputs": []
    },
    {
      "cell_type": "markdown",
      "metadata": {
        "id": "8PxOHPqJjT6s",
        "colab_type": "text"
      },
      "source": [
        "Checks quality of interpolation."
      ]
    },
    {
      "cell_type": "code",
      "metadata": {
        "id": "0CNvITdxky_Y",
        "colab_type": "code",
        "colab": {
          "base_uri": "https://localhost:8080/",
          "height": 1000
        },
        "outputId": "d1d2839c-8543-4ebd-b4eb-7fc9d574ea11"
      },
      "source": [
        "print(ynew)"
      ],
      "execution_count": null,
      "outputs": [
        {
          "output_type": "stream",
          "text": [
            "[ 0.00990008  0.00983747  0.0097987   0.00978592  0.00980124  0.00984681\n",
            "  0.00992475  0.0100372   0.01018628  0.01037413  0.01060303  0.01087935\n",
            "  0.01121397  0.01161804  0.0121027   0.01268054  0.01340142  0.01435436\n",
            "  0.01563024  0.01731994  0.01950858  0.02216039  0.02512469  0.02824624\n",
            "  0.0313698   0.03436241  0.03742796  0.0410315   0.04564494  0.05174017\n",
            "  0.05975783  0.06982432  0.08188438  0.09577599  0.11076504  0.12593299\n",
            "  0.14051301  0.15385502  0.16526082  0.17392516  0.17904711  0.18052581\n",
            "  0.17917453  0.17586815  0.17148155  0.16688337  0.16264744  0.1589306\n",
            "  0.15585813  0.15355531  0.15214535  0.15159804  0.15162609  0.15191773\n",
            "  0.15216116  0.15204715  0.15144409  0.15051009  0.14942999  0.14838861\n",
            "  0.14757042  0.14713286  0.14718826  0.14784463  0.14921     0.15139046\n",
            "  0.15437264  0.15795621  0.16192453  0.16606095  0.17015301  0.17412933\n",
            "  0.17809071  0.18214837  0.18641353  0.19099271  0.19589725  0.20105019\n",
            "  0.20637125  0.21178013  0.21719911  0.22258136  0.2279005   0.23313054\n",
            "  0.23824545  0.24321998  0.2480347   0.25267284  0.25711766  0.26135243\n",
            "  0.26537187  0.2692321   0.27300968  0.27678121  0.28062327  0.28459982\n",
            "  0.28872463  0.292999    0.29742423  0.30200163  0.30672414  0.31156068\n",
            "  0.31647587  0.32143431  0.32640106  0.33135393  0.33628506  0.34118738\n",
            "  0.3460538   0.35087248  0.35559611  0.36016142  0.3645051   0.3685638\n",
            "  0.37228509  0.37567349  0.37875199  0.3815436   0.38407135  0.38636996\n",
            "  0.38852196  0.39062203  0.39276488  0.39504518  0.39751683  0.40009549\n",
            "  0.40266753  0.40511935  0.4073374   0.40925981  0.4109682   0.41256888\n",
            "  0.41416817  0.41587221  0.41773829  0.41970647  0.42169953  0.42364028\n",
            "  0.42545164  0.42707377  0.42848222  0.42965691  0.43057774  0.43122472\n",
            "  0.43158654  0.43166797  0.43147548  0.43101555  0.43029482  0.42933344\n",
            "  0.42817596  0.42686945  0.42546101  0.42399763  0.42251533  0.4210295\n",
            "  0.41955322  0.41809958  0.41668166  0.41531192  0.4140016   0.4127618\n",
            "  0.4116036   0.41053849  0.40964349  0.40913397  0.40924288  0.41020314\n",
            "  0.41224608  0.4153742   0.41912728  0.42298926  0.42644409  0.42898854\n",
            "  0.43094145  0.43392823  0.43969055  0.44996871  0.46510929  0.48143955\n",
            "  0.49602715  0.50954561  0.52332588  0.53904993  0.55864312  0.5839532\n",
            "  0.60644656  0.63528394  0.66642249  0.69142635  0.72707896  0.74375804\n",
            "  0.77169438  0.8197587   0.83655284  0.8674678   0.89211599  0.90886243\n",
            "  0.93460871  0.96520011  0.97986083  0.98741611  0.99301571  0.99691412\n",
            "  0.99920954  1.          0.99918364  0.99604725  0.98976119  0.97955728\n",
            "  0.96652937  0.95384424  0.94221384  0.92926703  0.91374558  0.89678735\n",
            "  0.8796993   0.86352474  0.84716609  0.8282868   0.80806797  0.79069722\n",
            "  0.77382132  0.75360963  0.73478479  0.71814424  0.69733826  0.67575209\n",
            "  0.65937767  0.64289519  0.62398562  0.60468219  0.58552713  0.56736544\n",
            "  0.55234076  0.53845843  0.52149196  0.50181916  0.48480789  0.47045152\n",
            "  0.45603791  0.44119154  0.42660533  0.4126233   0.39908481  0.38576767\n",
            "  0.37235361  0.35864188  0.34537152  0.33339721  0.32202536  0.31013716\n",
            "  0.29794292  0.28636953  0.27569441  0.26558406  0.25575557  0.24628852\n",
            "  0.23737368  0.22915095  0.22143895  0.21393124  0.20632138  0.19847276\n",
            "  0.19069732  0.18338022  0.17685782  0.17107428  0.16578474  0.16074316\n",
            "  0.15570365  0.15050272  0.14519408  0.13986676  0.13460981  0.12951201\n",
            "  0.12463071  0.11996401  0.11550344  0.11124053  0.10716678  0.10327241\n",
            "  0.0995444   0.09596922  0.09253336  0.0892233   0.08602604  0.08293014\n",
            "  0.07992448  0.07699791  0.07413931  0.07134477  0.06863685  0.06604407\n",
            "  0.06359499  0.06131813  0.05923036  0.05729919  0.05547913  0.05372469\n",
            "  0.0519904   0.05024069  0.04848612  0.04675067  0.04505827  0.04343288\n",
            "  0.04189358  0.04043466  0.03904257  0.03770379  0.03640478  0.03513544\n",
            "  0.03390417  0.03272563  0.03161448  0.03058537  0.02964793  0.02878319\n",
            "  0.02796214  0.02715575  0.02633499  0.02547655  0.02459036  0.02369838\n",
            "  0.02282256  0.02198487  0.02120309  0.02047015  0.01976974  0.01908553\n",
            "  0.01840121  0.01770342  0.01699678  0.0162927   0.01560256  0.01493778\n",
            "  0.0143094   0.01372631  0.01319657  0.01272822  0.01232932  0.0120059\n",
            "  0.01175138  0.01155439  0.01140355  0.01128748  0.01119488  0.01111484\n",
            "  0.01103664  0.01094952  0.01084277  0.01070867  0.01055737  0.01040552\n",
            "  0.01026977  0.01016679  0.01010803  0.01007513  0.01003911  0.00997098\n",
            "  0.00984172  0.00963049  0.00936167  0.00907534  0.00881158  0.00861048\n",
            "  0.0085038   0.00847784  0.00850341  0.00855132  0.00859236  0.00860247\n",
            "  0.00858474  0.0085512   0.00851387  0.00848481  0.00847204  0.00846315\n",
            "  0.0084392   0.00838126  0.00827037  0.00808761  0.00781402  0.00743067]\n"
          ],
          "name": "stdout"
        }
      ]
    },
    {
      "cell_type": "code",
      "metadata": {
        "id": "z1t_6cBNgAv3",
        "colab_type": "code",
        "colab": {
          "base_uri": "https://localhost:8080/",
          "height": 299
        },
        "outputId": "b9e46ec3-61fd-4ef7-d47d-2a9cbc0810fb"
      },
      "source": [
        "plt.plot(x, y, 'o', xnew, ynew, '-')"
      ],
      "execution_count": null,
      "outputs": [
        {
          "output_type": "execute_result",
          "data": {
            "text/plain": [
              "[<matplotlib.lines.Line2D at 0x7f8f736f1748>,\n",
              " <matplotlib.lines.Line2D at 0x7f8f736f1828>]"
            ]
          },
          "metadata": {
            "tags": []
          },
          "execution_count": 104
        },
        {
          "output_type": "display_data",
          "data": {
            "image/png": "[encoded data removed]",
            "text/plain": [
              "<Figure size 432x288 with 1 Axes>"
            ]
          },
          "metadata": {
            "tags": [],
            "needs_background": "light"
          }
        }
      ]
    },
    {
      "cell_type": "code",
      "metadata": {
        "id": "kx0UVqM1jaZe",
        "colab_type": "code",
        "colab": {}
      },
      "source": [
        "spdnormdict = dict(zip(xnew, ynew))\n",
        "spdnorm = colour.SpectralDistribution(spdnormdict)"
      ],
      "execution_count": null,
      "outputs": []
    },
    {
      "cell_type": "code",
      "metadata": {
        "id": "gAzQKDHyFvai",
        "colab_type": "code",
        "colab": {
          "base_uri": "https://localhost:8080/",
          "height": 331
        },
        "outputId": "1ca22faa-66b9-404f-900e-652e4b7fadc0"
      },
      "source": [
        "colour.plotting.plot_single_sd(spdnorm)"
      ],
      "execution_count": null,
      "outputs": [
        {
          "output_type": "display_data",
          "data": {
            "image/png": "[encoded data removed]",
            "text/plain": [
              "<Figure size 432x288 with 1 Axes>"
            ]
          },
          "metadata": {
            "tags": [],
            "needs_background": "light"
          }
        },
        {
          "output_type": "execute_result",
          "data": {
            "text/plain": [
              "(<Figure size 432x288 with 1 Axes>,\n",
              " <matplotlib.axes._subplots.AxesSubplot at 0x7f8f736e6d68>)"
            ]
          },
          "metadata": {
            "tags": []
          },
          "execution_count": 106
        }
      ]
    },
    {
      "cell_type": "code",
      "metadata": {
        "id": "7kG7BOLoUn74",
        "colab_type": "code",
        "colab": {
          "base_uri": "https://localhost:8080/",
          "height": 34
        },
        "outputId": "76190b1f-8c3e-444a-d565-99d6ed07ba31"
      },
      "source": [
        "colour.luminous_efficacy(spdnorm)"
      ],
      "execution_count": null,
      "outputs": [
        {
          "output_type": "execute_result",
          "data": {
            "text/plain": [
              "340.50678522439057"
            ]
          },
          "metadata": {
            "tags": []
          },
          "execution_count": 107
        }
      ]
    },
    {
      "cell_type": "code",
      "metadata": {
        "id": "LOQ3h8B2nCJY",
        "colab_type": "code",
        "colab": {
          "base_uri": "https://localhost:8080/",
          "height": 34
        },
        "outputId": "24684782-068a-4c98-dcfe-cf916603938c"
      },
      "source": [
        "colour.colour_rendering_index(spdnorm)"
      ],
      "execution_count": null,
      "outputs": [
        {
          "output_type": "execute_result",
          "data": {
            "text/plain": [
              "90.587531048020821"
            ]
          },
          "metadata": {
            "tags": []
          },
          "execution_count": 108
        }
      ]
    }
  ]
}